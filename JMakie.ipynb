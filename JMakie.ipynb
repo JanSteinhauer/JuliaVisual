{
  "nbformat": 4,
  "nbformat_minor": 0,
  "metadata": {
    "colab": {
      "provenance": []
    },
    "kernelspec": {
      "name": "python3",
      "display_name": "Python 3"
    },
    "language_info": {
      "name": "python"
    }
  },
  "cells": [
    {
      "cell_type": "code",
      "execution_count": null,
      "metadata": {
        "id": "FakWgxpiLh36"
      },
      "outputs": [],
      "source": [
        "!wget https://julialang-s3.julialang.org/bin/linux/x64/1.7/julia-1.7.2-linux-x86_64.tar.gz\n",
        "!tar -xvzf julia-1.7.2-linux-x86_64.tar.gz\n",
        "!sudo cp -r julia-1.7.2 /usr/local/\n",
        "!sudo ln -s /usr/local/julia-1.7.2/bin/julia /usr/local/bin/julia"
      ]
    },
    {
      "cell_type": "code",
      "source": [
        "!julia --version"
      ],
      "metadata": {
        "id": "KnkBcHZVLi5J"
      },
      "execution_count": null,
      "outputs": []
    },
    {
      "cell_type": "code",
      "source": [
        "%%shell\n",
        "julia -e 'using Pkg; Pkg.add(\"WGLMakie\")'"
      ],
      "metadata": {
        "id": "fL8T2fyXLqPz"
      },
      "execution_count": null,
      "outputs": []
    }
  ]
}